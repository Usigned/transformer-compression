{
 "cells": [
  {
   "cell_type": "code",
   "execution_count": 1,
   "metadata": {},
   "outputs": [
    {
     "name": "stderr",
     "output_type": "stream",
     "text": [
      "d:\\miniconda3\\lib\\site-packages\\tqdm\\auto.py:22: TqdmWarning: IProgress not found. Please update jupyter and ipywidgets. See https://ipywidgets.readthedocs.io/en/stable/user_install.html\n",
      "  from .autonotebook import tqdm as notebook_tqdm\n",
      "DEBUG:matplotlib:matplotlib data path: d:\\miniconda3\\lib\\site-packages\\matplotlib\\mpl-data\n",
      "DEBUG:matplotlib:CONFIGDIR=C:\\Users\\1\\.matplotlib\n",
      "DEBUG:matplotlib:interactive is False\n",
      "DEBUG:matplotlib:platform is win32\n",
      "DEBUG:matplotlib:CACHEDIR=C:\\Users\\1\\.matplotlib\n",
      "DEBUG:matplotlib.font_manager:Using fontManager instance from C:\\Users\\1\\.matplotlib\\fontlist-v330.json\n"
     ]
    }
   ],
   "source": [
    "from env import Env\n",
    "import args\n",
    "import rl_utils\n",
    "from model import get_vit\n",
    "import numpy as np\n",
    "# from ddpg import DDPG"
   ]
  },
  {
   "cell_type": "code",
   "execution_count": 2,
   "metadata": {},
   "outputs": [],
   "source": [
    "env = Env(get_vit(args.MQVIT), **args.ENV)"
   ]
  },
  {
   "cell_type": "code",
   "execution_count": 3,
   "metadata": {},
   "outputs": [
    {
     "name": "stdout",
     "output_type": "stream",
     "text": [
      "Prune finish\n",
      "quant_pi:[8 8 8 8 8 8 8 8 8 8 8 8 8 8 8 8 8 8 8 8 8 8 8 8 8 8 8 8 8 8 8 8 8 8 8 8 8\n",
      " 8 8 8 8 8 8 8 8 8 8 8]\n",
      "prune_pi:[ 6 12  5 12 12 12 11  6  4  8  3 12]\n",
      "reward: 0.0\n",
      "\n",
      "Quant finish\n",
      "quant_pi:[4 5 8 8 8 7 7 6 5 4 4 8 4 6 8 8 5 5 8 8 4 6 7 6 4 4 4 4 8 8 8 5 8 4 8 8 7\n",
      " 8 7 7 5 6 8 5 4 8 8 8]\n",
      "prune_pi:[ 6 12  5 12 12 12 11  6  4  8  3 12]\n",
      "reward: 0.0\n",
      "\n",
      "Prune finish\n",
      "quant_pi:[4 5 8 8 8 7 7 6 5 4 4 8 4 6 8 8 5 5 8 8 4 6 7 6 4 4 4 4 8 8 8 5 8 4 8 8 7\n",
      " 8 7 7 5 6 8 5 4 8 8 8]\n",
      "prune_pi:[12 12 12  8 12 12  3 11  6  8  5  5]\n",
      "reward: 0.0\n",
      "\n",
      "Quant finish\n",
      "quant_pi:[6 8 8 6 8 8 8 4 6 8 7 6 8 8 4 6 7 6 8 6 5 7 6 4 8 4 8 8 7 5 8 7 5 8 6 5 6\n",
      " 8 8 8 8 5 8 8 5 5 8 6]\n",
      "prune_pi:[12 12 12  8 12 12  3 11  6  8  5  5]\n",
      "reward: 0.0\n",
      "\n",
      "Prune finish\n",
      "quant_pi:[6 8 8 6 8 8 8 4 6 8 7 6 8 8 4 6 7 6 8 6 5 7 6 4 8 4 8 8 7 5 8 7 5 8 6 5 6\n",
      " 8 8 8 8 5 8 8 5 5 8 6]\n",
      "prune_pi:[ 4  7  7 12 12 12 11 12  4  4  9  9]\n",
      "reward: 0.0\n",
      "\n",
      "Quant finish\n",
      "quant_pi:[8 8 8 6 8 8 4 6 8 8 6 5 4 8 4 4 8 5 6 8 5 6 6 8 4 5 8 8 8 4 7 4 8 8 4 8 5\n",
      " 7 8 8 8 8 5 8 8 4 4 4]\n",
      "prune_pi:[ 4  7  7 12 12 12 11 12  4  4  9  9]\n",
      "reward: 0.0\n",
      "\n",
      "Prune finish\n",
      "quant_pi:[8 8 8 6 8 8 4 6 8 8 6 5 4 8 4 4 8 5 6 8 5 6 6 8 4 5 8 8 8 4 7 4 8 8 4 8 5\n",
      " 7 8 8 8 8 5 8 8 4 4 4]\n",
      "prune_pi:[11 12 10 10 12 11 12 12  7 10  7  3]\n",
      "reward: 0.0\n",
      "\n"
     ]
    }
   ],
   "source": [
    "s = env.reset()\n",
    "for _ in range(200):\n",
    "    s_, r,d, info = env.step(np.clip(abs(np.random.randn()), 0, 1))\n",
    "    if d: print(info['info'])"
   ]
  },
  {
   "cell_type": "code",
   "execution_count": null,
   "metadata": {},
   "outputs": [],
   "source": []
  }
 ],
 "metadata": {
  "kernelspec": {
   "display_name": "base",
   "language": "python",
   "name": "python3"
  },
  "language_info": {
   "codemirror_mode": {
    "name": "ipython",
    "version": 3
   },
   "file_extension": ".py",
   "mimetype": "text/x-python",
   "name": "python",
   "nbconvert_exporter": "python",
   "pygments_lexer": "ipython3",
   "version": "3.10.9"
  },
  "orig_nbformat": 4
 },
 "nbformat": 4,
 "nbformat_minor": 2
}
