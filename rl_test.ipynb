{
 "cells": [
  {
   "cell_type": "code",
   "execution_count": 1,
   "metadata": {},
   "outputs": [
    {
     "name": "stderr",
     "output_type": "stream",
     "text": [
      "d:\\miniconda3\\lib\\site-packages\\tqdm\\auto.py:22: TqdmWarning: IProgress not found. Please update jupyter and ipywidgets. See https://ipywidgets.readthedocs.io/en/stable/user_install.html\n",
      "  from .autonotebook import tqdm as notebook_tqdm\n"
     ]
    }
   ],
   "source": [
    "from env import Env\n",
    "from train import *\n",
    "from data import *\n",
    "import args\n",
    "from model import *"
   ]
  },
  {
   "cell_type": "code",
   "execution_count": 2,
   "metadata": {},
   "outputs": [
    {
     "name": "stdout",
     "output_type": "stream",
     "text": [
      "=> shape of quant state (n_layer * n_dim): (48, 7)\n",
      "=> shape of prune state (n_layer * n_dim): (12, 7)\n"
     ]
    }
   ],
   "source": [
    "path = r'D:\\d-storage\\output\\vit\\0.9853000044822693.pt'\n",
    "trainloader = get_cifar10_dataloader()\n",
    "testloader = get_cifar10_dataloader(train=False)\n",
    "env = Env(get_vit(args.QVIT), path, trainloader, testloader, 'cpu', args.ENV)"
   ]
  },
  {
   "cell_type": "code",
   "execution_count": 21,
   "metadata": {},
   "outputs": [
    {
     "name": "stdout",
     "output_type": "stream",
     "text": [
      "Quant finish\n",
      "quant_pi:[4, 4, 4, 4, 4, 4, 4, 4, 8, 6, 5, 5, 4, 4, 4, 4, 4, 4, 4, 4, 4, 4, 4, 4, 4, 4, 4, 4, 4, 4, 4, 4, 4, 4, 4, 4, 4, 4, 4, 4, 4, 4, 4, 4, 4, 4, 4, 4]\n",
      "prune_pi:[3, 3, 3, 3, 3, 3, 3, 3, 3, 3, 3, 3]\n",
      "reward: -236\n",
      "\n",
      "Prune finish\n",
      "quant_pi:[4, 4, 4, 4, 4, 4, 4, 4, 8, 6, 5, 5, 4, 4, 4, 4, 4, 4, 4, 4, 4, 4, 4, 4, 4, 4, 4, 4, 4, 4, 4, 4, 4, 4, 4, 4, 4, 4, 4, 4, 4, 4, 4, 4, 4, 4, 4, 4]\n",
      "prune_pi:[3, 3, 3, 3, 3, 3, 3, 3, 3, 3, 3, 3]\n",
      "reward: -236\n",
      "\n",
      "Quant finish\n",
      "quant_pi:[4, 4, 4, 4, 4, 4, 4, 4, 4, 4, 4, 4, 4, 4, 4, 4, 4, 4, 4, 4, 4, 4, 4, 4, 4, 4, 4, 4, 4, 4, 4, 4, 4, 4, 4, 4, 4, 4, 4, 4, 4, 4, 4, 4, 4, 4, 4, 4]\n",
      "prune_pi:[3, 3, 3, 3, 3, 3, 3, 3, 3, 3, 3, 3]\n",
      "reward: -228\n",
      "\n",
      "Prune finish\n",
      "quant_pi:[4, 4, 4, 4, 4, 4, 4, 4, 4, 4, 4, 4, 4, 4, 4, 4, 4, 4, 4, 4, 4, 4, 4, 4, 4, 4, 4, 4, 4, 4, 4, 4, 4, 4, 4, 4, 4, 4, 4, 4, 4, 4, 4, 4, 4, 4, 4, 4]\n",
      "prune_pi:[3, 3, 3, 3, 3, 3, 3, 3, 3, 3, 3, 3]\n",
      "reward: -228\n",
      "\n",
      "Quant finish\n",
      "quant_pi:[4, 4, 4, 4, 4, 4, 4, 4, 4, 4, 4, 4, 4, 4, 4, 4, 4, 4, 4, 4, 4, 4, 4, 4, 4, 4, 4, 4, 4, 4, 4, 4, 4, 4, 4, 4, 4, 4, 4, 4, 4, 4, 4, 4, 4, 4, 4, 4]\n",
      "prune_pi:[3, 3, 3, 3, 3, 3, 3, 3, 3, 3, 3, 3]\n",
      "reward: -228\n",
      "\n",
      "Prune finish\n",
      "quant_pi:[4, 4, 4, 4, 4, 4, 4, 4, 4, 4, 4, 4, 4, 4, 4, 4, 4, 4, 4, 4, 4, 4, 4, 4, 4, 4, 4, 4, 4, 4, 4, 4, 4, 4, 4, 4, 4, 4, 4, 4, 4, 4, 4, 4, 4, 4, 4, 4]\n",
      "prune_pi:[3, 3, 3, 3, 3, 3, 3, 3, 3, 3, 3, 3]\n",
      "reward: -228\n",
      "\n",
      "Quant finish\n",
      "quant_pi:[4, 4, 4, 4, 4, 4, 4, 4, 4, 4, 4, 4, 4, 4, 4, 4, 4, 4, 4, 4, 4, 4, 4, 4, 4, 4, 4, 4, 4, 4, 4, 4, 4, 4, 4, 4, 4, 4, 4, 4, 4, 4, 4, 4, 4, 4, 4, 4]\n",
      "prune_pi:[3, 3, 3, 3, 3, 3, 3, 3, 3, 3, 3, 3]\n",
      "reward: -228\n",
      "\n",
      "Prune finish\n",
      "quant_pi:[4, 4, 4, 4, 4, 4, 4, 4, 4, 4, 4, 4, 4, 4, 4, 4, 4, 4, 4, 4, 4, 4, 4, 4, 4, 4, 4, 4, 4, 4, 4, 4, 4, 4, 4, 4, 4, 4, 4, 4, 4, 4, 4, 4, 4, 4, 4, 4]\n",
      "prune_pi:[3, 3, 3, 3, 3, 3, 3, 3, 3, 3, 3, 3]\n",
      "reward: -228\n",
      "\n",
      "Quant finish\n",
      "quant_pi:[4, 4, 4, 4, 4, 4, 4, 4, 4, 4, 4, 4, 4, 4, 4, 4, 4, 4, 4, 4, 4, 4, 4, 4, 4, 4, 4, 4, 4, 4, 4, 4, 4, 4, 4, 4, 4, 4, 4, 4, 4, 4, 4, 4, 4, 4, 4, 4]\n",
      "prune_pi:[3, 3, 3, 3, 3, 3, 3, 3, 3, 3, 3, 3]\n",
      "reward: -228\n",
      "\n",
      "Prune finish\n",
      "quant_pi:[4, 4, 4, 4, 4, 4, 4, 4, 4, 4, 4, 4, 4, 4, 4, 4, 4, 4, 4, 4, 4, 4, 4, 4, 4, 4, 4, 4, 4, 4, 4, 4, 4, 4, 4, 4, 4, 4, 4, 4, 4, 4, 4, 4, 4, 4, 4, 4]\n",
      "prune_pi:[3, 3, 3, 3, 3, 3, 3, 3, 3, 3, 3, 3]\n",
      "reward: -228\n",
      "\n",
      "Quant finish\n",
      "quant_pi:[4, 4, 4, 4, 4, 4, 4, 4, 4, 4, 4, 4, 4, 4, 4, 4, 4, 4, 4, 4, 4, 4, 4, 4, 4, 4, 4, 4, 4, 4, 4, 4, 4, 4, 4, 4, 4, 4, 4, 4, 4, 4, 4, 4, 4, 4, 4, 4]\n",
      "prune_pi:[3, 3, 3, 3, 3, 3, 3, 3, 3, 3, 3, 3]\n",
      "reward: -228\n",
      "\n",
      "Prune finish\n",
      "quant_pi:[4, 4, 4, 4, 4, 4, 4, 4, 4, 4, 4, 4, 4, 4, 4, 4, 4, 4, 4, 4, 4, 4, 4, 4, 4, 4, 4, 4, 4, 4, 4, 4, 4, 4, 4, 4, 4, 4, 4, 4, 4, 4, 4, 4, 4, 4, 4, 4]\n",
      "prune_pi:[3, 3, 3, 3, 3, 3, 3, 3, 3, 3, 3, 3]\n",
      "reward: -228\n",
      "\n",
      "Quant finish\n",
      "quant_pi:[4, 4, 4, 4, 4, 4, 4, 4, 4, 4, 4, 4, 4, 4, 4, 4, 4, 4, 4, 4, 4, 4, 4, 4, 4, 4, 4, 4, 4, 4, 4, 4, 4, 4, 4, 4, 4, 4, 4, 4, 4, 4, 4, 4, 4, 4, 4, 4]\n",
      "prune_pi:[3, 3, 3, 3, 3, 3, 3, 3, 3, 3, 3, 3]\n",
      "reward: -228\n",
      "\n",
      "Prune finish\n",
      "quant_pi:[4, 4, 4, 4, 4, 4, 4, 4, 4, 4, 4, 4, 4, 4, 4, 4, 4, 4, 4, 4, 4, 4, 4, 4, 4, 4, 4, 4, 4, 4, 4, 4, 4, 4, 4, 4, 4, 4, 4, 4, 4, 4, 4, 4, 4, 4, 4, 4]\n",
      "prune_pi:[3, 3, 3, 3, 3, 3, 3, 3, 3, 3, 3, 3]\n",
      "reward: -228\n",
      "\n",
      "Quant finish\n",
      "quant_pi:[4, 4, 4, 4, 4, 4, 4, 4, 4, 4, 4, 4, 4, 4, 4, 4, 4, 4, 4, 4, 4, 4, 4, 4, 4, 4, 4, 4, 4, 4, 4, 4, 4, 4, 4, 4, 4, 4, 4, 4, 4, 4, 4, 4, 4, 4, 4, 4]\n",
      "prune_pi:[3, 3, 3, 3, 3, 3, 3, 3, 3, 3, 3, 3]\n",
      "reward: -228\n",
      "\n",
      "Prune finish\n",
      "quant_pi:[4, 4, 4, 4, 4, 4, 4, 4, 4, 4, 4, 4, 4, 4, 4, 4, 4, 4, 4, 4, 4, 4, 4, 4, 4, 4, 4, 4, 4, 4, 4, 4, 4, 4, 4, 4, 4, 4, 4, 4, 4, 4, 4, 4, 4, 4, 4, 4]\n",
      "prune_pi:[3, 3, 3, 3, 3, 3, 3, 3, 3, 3, 3, 3]\n",
      "reward: -228\n",
      "\n"
     ]
    }
   ],
   "source": [
    "# _ = env._reset_everything()\n",
    "for i in range(500):\n",
    "    t = env.step(1/(i+1))\n",
    "    if t[2]:\n",
    "        print(t[3]['info'])"
   ]
  }
 ],
 "metadata": {
  "kernelspec": {
   "display_name": "base",
   "language": "python",
   "name": "python3"
  },
  "language_info": {
   "codemirror_mode": {
    "name": "ipython",
    "version": 3
   },
   "file_extension": ".py",
   "mimetype": "text/x-python",
   "name": "python",
   "nbconvert_exporter": "python",
   "pygments_lexer": "ipython3",
   "version": "3.10.9"
  },
  "orig_nbformat": 4
 },
 "nbformat": 4,
 "nbformat_minor": 2
}
