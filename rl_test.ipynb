{
 "cells": [
  {
   "cell_type": "code",
   "execution_count": 1,
   "metadata": {},
   "outputs": [
    {
     "name": "stderr",
     "output_type": "stream",
     "text": [
      "d:\\miniconda3\\lib\\site-packages\\tqdm\\auto.py:22: TqdmWarning: IProgress not found. Please update jupyter and ipywidgets. See https://ipywidgets.readthedocs.io/en/stable/user_install.html\n",
      "  from .autonotebook import tqdm as notebook_tqdm\n"
     ]
    }
   ],
   "source": [
    "from env import Env\n",
    "from train import *\n",
    "from data import *\n",
    "import args\n",
    "from model import *"
   ]
  },
  {
   "cell_type": "code",
   "execution_count": 2,
   "metadata": {},
   "outputs": [
    {
     "name": "stdout",
     "output_type": "stream",
     "text": [
      "=> shape of quant state (n_layer * n_dim): (48, 7)\n",
      "=> shape of prune state (n_layer * n_dim): (12, 7)\n"
     ]
    }
   ],
   "source": [
    "path = r'D:\\d-storage\\output\\vit\\0.9853000044822693.pt'\n",
    "trainloader = get_cifar10_dataloader()\n",
    "testloader = get_cifar10_dataloader(train=False)\n",
    "env = Env(get_vit(args.QVIT), path, trainloader, testloader, 'cpu', args.ENV)"
   ]
  },
  {
   "cell_type": "code",
   "execution_count": 6,
   "metadata": {},
   "outputs": [
    {
     "name": "stdout",
     "output_type": "stream",
     "text": [
      "=> shape of quant state (n_layer * n_dim): (48, 7)\n",
      "=> shape of prune state (n_layer * n_dim): (12, 7)\n"
     ]
    },
    {
     "ename": "ZeroDivisionError",
     "evalue": "division by zero",
     "output_type": "error",
     "traceback": [
      "\u001b[1;31m---------------------------------------------------------------------------\u001b[0m",
      "\u001b[1;31mZeroDivisionError\u001b[0m                         Traceback (most recent call last)",
      "Cell \u001b[1;32mIn[6], line 3\u001b[0m\n\u001b[0;32m      1\u001b[0m _ \u001b[39m=\u001b[39m env\u001b[39m.\u001b[39m_reset_everything()\n\u001b[0;32m      2\u001b[0m \u001b[39mfor\u001b[39;00m i \u001b[39min\u001b[39;00m \u001b[39mrange\u001b[39m(\u001b[39m60\u001b[39m):\n\u001b[1;32m----> 3\u001b[0m     t \u001b[39m=\u001b[39m env\u001b[39m.\u001b[39mstep(\u001b[39m1\u001b[39;49m\u001b[39m/\u001b[39;49mi)\n\u001b[0;32m      4\u001b[0m     \u001b[39mprint\u001b[39m(t[\u001b[39m3\u001b[39m][\u001b[39m'\u001b[39m\u001b[39minfo\u001b[39m\u001b[39m'\u001b[39m])\n",
      "\u001b[1;31mZeroDivisionError\u001b[0m: division by zero"
     ]
    }
   ],
   "source": [
    "_ = env._reset_everything()\n",
    "for i in range(60):\n",
    "    t = env.step(1/(i+1))\n",
    "    print(t[3]['info'])"
   ]
  }
 ],
 "metadata": {
  "kernelspec": {
   "display_name": "base",
   "language": "python",
   "name": "python3"
  },
  "language_info": {
   "codemirror_mode": {
    "name": "ipython",
    "version": 3
   },
   "file_extension": ".py",
   "mimetype": "text/x-python",
   "name": "python",
   "nbconvert_exporter": "python",
   "pygments_lexer": "ipython3",
   "version": "3.10.9"
  },
  "orig_nbformat": 4
 },
 "nbformat": 4,
 "nbformat_minor": 2
}
