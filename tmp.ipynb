{
 "cells": [
  {
   "cell_type": "code",
   "execution_count": null,
   "metadata": {},
   "outputs": [],
   "source": [
    "import torch\n",
    "import torch.nn as nn\n",
    "from model import*\n",
    "from quant_utils import *\n",
    "import json\n",
    "from argparse import Namespace\n",
    "from train import eval_model\n",
    "from data import get_cifar10_dataloader"
   ]
  },
  {
   "cell_type": "code",
   "execution_count": null,
   "metadata": {},
   "outputs": [],
   "source": [
    "import torch_npu\n",
    "device = torch.device(\"npu\")"
   ]
  },
  {
   "cell_type": "code",
   "execution_count": null,
   "metadata": {},
   "outputs": [],
   "source": [
    "train_loader = get_cifar10_dataloader()\n",
    "test_loader = get_cifar10_dataloader(train=False)"
   ]
  },
  {
   "cell_type": "code",
   "execution_count": null,
   "metadata": {},
   "outputs": [],
   "source": [
    "args = Namespace(**json.load(open('ViT-B_16-224.json', 'r')))\n",
    "args.linear = QLinear\n",
    "args.linear_general = QLinearGeneral\n",
    "args.attn_type = SelfAttention\n",
    "vit = CAFIA_Transformer(args)"
   ]
  },
  {
   "cell_type": "code",
   "execution_count": null,
   "metadata": {},
   "outputs": [],
   "source": [
    "path = '/home/ma-user/work/Vision-Transformer-ViT/output/vit/0.9853000044822693.pt'\n",
    "ch = torch.load(path, map_location=torch.device('cpu'))\n",
    "vit.load_state_dict(ch, strict=False)"
   ]
  },
  {
   "cell_type": "code",
   "execution_count": null,
   "metadata": {},
   "outputs": [],
   "source": [
    "eval_model(vit, test_loader, 'npu')"
   ]
  }
 ],
 "metadata": {
  "kernelspec": {
   "display_name": "base",
   "language": "python",
   "name": "python3"
  },
  "language_info": {
   "codemirror_mode": {
    "name": "ipython",
    "version": 3
   },
   "file_extension": ".py",
   "mimetype": "text/x-python",
   "name": "python",
   "nbconvert_exporter": "python",
   "pygments_lexer": "ipython3",
   "version": "3.7.5"
  },
  "orig_nbformat": 4
 },
 "nbformat": 4,
 "nbformat_minor": 2
}
