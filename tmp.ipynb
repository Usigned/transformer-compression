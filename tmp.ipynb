{
 "cells": [
  {
   "cell_type": "code",
   "execution_count": 1,
   "metadata": {},
   "outputs": [],
   "source": [
    "import torch\n",
    "import torch.nn as nn\n",
    "from model import*\n",
    "from quant_utils import *\n",
    "from train import eval_model, finetune\n",
    "from data import get_cifar10_dataloader\n",
    "import args"
   ]
  },
  {
   "cell_type": "code",
   "execution_count": 2,
   "metadata": {},
   "outputs": [
    {
     "name": "stderr",
     "output_type": "stream",
     "text": [
      "[W OperatorEntry.cpp:121] Warning: Overriding a previously registered kernel for the same operator and the same dispatch key\n",
      "  operator: aten::_has_compatible_shallow_copy_type(Tensor self, Tensor from) -> (bool)\n",
      "    registered at /usr1/pytorch/build/aten/src/ATen/RegisterSchema.cpp:20\n",
      "  dispatch key: Math\n",
      "  previous kernel: registered at /usr1/pytorch/build/aten/src/ATen/RegisterMath.cpp:5686\n",
      "       new kernel: registered at /usr1/workspace/FPTA_Daily_Plugin_open_date/Plugin/torch_npu/csrc/aten/ops/HasCompatibleShallowCopyType.cpp:37 (function registerKernel)\n"
     ]
    }
   ],
   "source": [
    "import torch_npu\n",
    "device = torch.device(\"npu\")"
   ]
  },
  {
   "cell_type": "code",
   "execution_count": 3,
   "metadata": {},
   "outputs": [
    {
     "data": {
      "text/plain": [
       "_IncompatibleKeys(missing_keys=['vit.transformer.encoder_layers.0.attn.query.activation_range', 'vit.transformer.encoder_layers.0.attn.query.weight_range', 'vit.transformer.encoder_layers.0.attn.key.activation_range', 'vit.transformer.encoder_layers.0.attn.key.weight_range', 'vit.transformer.encoder_layers.0.attn.value.activation_range', 'vit.transformer.encoder_layers.0.attn.value.weight_range', 'vit.transformer.encoder_layers.0.attn.out.activation_range', 'vit.transformer.encoder_layers.0.attn.out.weight_range', 'vit.transformer.encoder_layers.0.mlp.fc1.activation_range', 'vit.transformer.encoder_layers.0.mlp.fc1.weight_range', 'vit.transformer.encoder_layers.0.mlp.fc2.activation_range', 'vit.transformer.encoder_layers.0.mlp.fc2.weight_range', 'vit.transformer.encoder_layers.1.attn.query.activation_range', 'vit.transformer.encoder_layers.1.attn.query.weight_range', 'vit.transformer.encoder_layers.1.attn.key.activation_range', 'vit.transformer.encoder_layers.1.attn.key.weight_range', 'vit.transformer.encoder_layers.1.attn.value.activation_range', 'vit.transformer.encoder_layers.1.attn.value.weight_range', 'vit.transformer.encoder_layers.1.attn.out.activation_range', 'vit.transformer.encoder_layers.1.attn.out.weight_range', 'vit.transformer.encoder_layers.1.mlp.fc1.activation_range', 'vit.transformer.encoder_layers.1.mlp.fc1.weight_range', 'vit.transformer.encoder_layers.1.mlp.fc2.activation_range', 'vit.transformer.encoder_layers.1.mlp.fc2.weight_range', 'vit.transformer.encoder_layers.2.attn.query.activation_range', 'vit.transformer.encoder_layers.2.attn.query.weight_range', 'vit.transformer.encoder_layers.2.attn.key.activation_range', 'vit.transformer.encoder_layers.2.attn.key.weight_range', 'vit.transformer.encoder_layers.2.attn.value.activation_range', 'vit.transformer.encoder_layers.2.attn.value.weight_range', 'vit.transformer.encoder_layers.2.attn.out.activation_range', 'vit.transformer.encoder_layers.2.attn.out.weight_range', 'vit.transformer.encoder_layers.2.mlp.fc1.activation_range', 'vit.transformer.encoder_layers.2.mlp.fc1.weight_range', 'vit.transformer.encoder_layers.2.mlp.fc2.activation_range', 'vit.transformer.encoder_layers.2.mlp.fc2.weight_range', 'vit.transformer.encoder_layers.3.attn.query.activation_range', 'vit.transformer.encoder_layers.3.attn.query.weight_range', 'vit.transformer.encoder_layers.3.attn.key.activation_range', 'vit.transformer.encoder_layers.3.attn.key.weight_range', 'vit.transformer.encoder_layers.3.attn.value.activation_range', 'vit.transformer.encoder_layers.3.attn.value.weight_range', 'vit.transformer.encoder_layers.3.attn.out.activation_range', 'vit.transformer.encoder_layers.3.attn.out.weight_range', 'vit.transformer.encoder_layers.3.mlp.fc1.activation_range', 'vit.transformer.encoder_layers.3.mlp.fc1.weight_range', 'vit.transformer.encoder_layers.3.mlp.fc2.activation_range', 'vit.transformer.encoder_layers.3.mlp.fc2.weight_range', 'vit.transformer.encoder_layers.4.attn.query.activation_range', 'vit.transformer.encoder_layers.4.attn.query.weight_range', 'vit.transformer.encoder_layers.4.attn.key.activation_range', 'vit.transformer.encoder_layers.4.attn.key.weight_range', 'vit.transformer.encoder_layers.4.attn.value.activation_range', 'vit.transformer.encoder_layers.4.attn.value.weight_range', 'vit.transformer.encoder_layers.4.attn.out.activation_range', 'vit.transformer.encoder_layers.4.attn.out.weight_range', 'vit.transformer.encoder_layers.4.mlp.fc1.activation_range', 'vit.transformer.encoder_layers.4.mlp.fc1.weight_range', 'vit.transformer.encoder_layers.4.mlp.fc2.activation_range', 'vit.transformer.encoder_layers.4.mlp.fc2.weight_range', 'vit.transformer.encoder_layers.5.attn.query.activation_range', 'vit.transformer.encoder_layers.5.attn.query.weight_range', 'vit.transformer.encoder_layers.5.attn.key.activation_range', 'vit.transformer.encoder_layers.5.attn.key.weight_range', 'vit.transformer.encoder_layers.5.attn.value.activation_range', 'vit.transformer.encoder_layers.5.attn.value.weight_range', 'vit.transformer.encoder_layers.5.attn.out.activation_range', 'vit.transformer.encoder_layers.5.attn.out.weight_range', 'vit.transformer.encoder_layers.5.mlp.fc1.activation_range', 'vit.transformer.encoder_layers.5.mlp.fc1.weight_range', 'vit.transformer.encoder_layers.5.mlp.fc2.activation_range', 'vit.transformer.encoder_layers.5.mlp.fc2.weight_range', 'vit.transformer.encoder_layers.6.attn.query.activation_range', 'vit.transformer.encoder_layers.6.attn.query.weight_range', 'vit.transformer.encoder_layers.6.attn.key.activation_range', 'vit.transformer.encoder_layers.6.attn.key.weight_range', 'vit.transformer.encoder_layers.6.attn.value.activation_range', 'vit.transformer.encoder_layers.6.attn.value.weight_range', 'vit.transformer.encoder_layers.6.attn.out.activation_range', 'vit.transformer.encoder_layers.6.attn.out.weight_range', 'vit.transformer.encoder_layers.6.mlp.fc1.activation_range', 'vit.transformer.encoder_layers.6.mlp.fc1.weight_range', 'vit.transformer.encoder_layers.6.mlp.fc2.activation_range', 'vit.transformer.encoder_layers.6.mlp.fc2.weight_range', 'vit.transformer.encoder_layers.7.attn.query.activation_range', 'vit.transformer.encoder_layers.7.attn.query.weight_range', 'vit.transformer.encoder_layers.7.attn.key.activation_range', 'vit.transformer.encoder_layers.7.attn.key.weight_range', 'vit.transformer.encoder_layers.7.attn.value.activation_range', 'vit.transformer.encoder_layers.7.attn.value.weight_range', 'vit.transformer.encoder_layers.7.attn.out.activation_range', 'vit.transformer.encoder_layers.7.attn.out.weight_range', 'vit.transformer.encoder_layers.7.mlp.fc1.activation_range', 'vit.transformer.encoder_layers.7.mlp.fc1.weight_range', 'vit.transformer.encoder_layers.7.mlp.fc2.activation_range', 'vit.transformer.encoder_layers.7.mlp.fc2.weight_range', 'vit.transformer.encoder_layers.8.attn.query.activation_range', 'vit.transformer.encoder_layers.8.attn.query.weight_range', 'vit.transformer.encoder_layers.8.attn.key.activation_range', 'vit.transformer.encoder_layers.8.attn.key.weight_range', 'vit.transformer.encoder_layers.8.attn.value.activation_range', 'vit.transformer.encoder_layers.8.attn.value.weight_range', 'vit.transformer.encoder_layers.8.attn.out.activation_range', 'vit.transformer.encoder_layers.8.attn.out.weight_range', 'vit.transformer.encoder_layers.8.mlp.fc1.activation_range', 'vit.transformer.encoder_layers.8.mlp.fc1.weight_range', 'vit.transformer.encoder_layers.8.mlp.fc2.activation_range', 'vit.transformer.encoder_layers.8.mlp.fc2.weight_range', 'vit.transformer.encoder_layers.9.attn.query.activation_range', 'vit.transformer.encoder_layers.9.attn.query.weight_range', 'vit.transformer.encoder_layers.9.attn.key.activation_range', 'vit.transformer.encoder_layers.9.attn.key.weight_range', 'vit.transformer.encoder_layers.9.attn.value.activation_range', 'vit.transformer.encoder_layers.9.attn.value.weight_range', 'vit.transformer.encoder_layers.9.attn.out.activation_range', 'vit.transformer.encoder_layers.9.attn.out.weight_range', 'vit.transformer.encoder_layers.9.mlp.fc1.activation_range', 'vit.transformer.encoder_layers.9.mlp.fc1.weight_range', 'vit.transformer.encoder_layers.9.mlp.fc2.activation_range', 'vit.transformer.encoder_layers.9.mlp.fc2.weight_range', 'vit.transformer.encoder_layers.10.attn.query.activation_range', 'vit.transformer.encoder_layers.10.attn.query.weight_range', 'vit.transformer.encoder_layers.10.attn.key.activation_range', 'vit.transformer.encoder_layers.10.attn.key.weight_range', 'vit.transformer.encoder_layers.10.attn.value.activation_range', 'vit.transformer.encoder_layers.10.attn.value.weight_range', 'vit.transformer.encoder_layers.10.attn.out.activation_range', 'vit.transformer.encoder_layers.10.attn.out.weight_range', 'vit.transformer.encoder_layers.10.mlp.fc1.activation_range', 'vit.transformer.encoder_layers.10.mlp.fc1.weight_range', 'vit.transformer.encoder_layers.10.mlp.fc2.activation_range', 'vit.transformer.encoder_layers.10.mlp.fc2.weight_range', 'vit.transformer.encoder_layers.11.attn.query.activation_range', 'vit.transformer.encoder_layers.11.attn.query.weight_range', 'vit.transformer.encoder_layers.11.attn.key.activation_range', 'vit.transformer.encoder_layers.11.attn.key.weight_range', 'vit.transformer.encoder_layers.11.attn.value.activation_range', 'vit.transformer.encoder_layers.11.attn.value.weight_range', 'vit.transformer.encoder_layers.11.attn.out.activation_range', 'vit.transformer.encoder_layers.11.attn.out.weight_range', 'vit.transformer.encoder_layers.11.mlp.fc1.activation_range', 'vit.transformer.encoder_layers.11.mlp.fc1.weight_range', 'vit.transformer.encoder_layers.11.mlp.fc2.activation_range', 'vit.transformer.encoder_layers.11.mlp.fc2.weight_range'], unexpected_keys=[])"
      ]
     },
     "execution_count": 3,
     "metadata": {},
     "output_type": "execute_result"
    }
   ],
   "source": [
    "train_loader = get_cifar10_dataloader()\n",
    "test_loader = get_cifar10_dataloader(train=False)\n",
    "vit = CAFIA_Transformer(args.QVIT)\n",
    "path = '/home/ma-user/work/Vision-Transformer-ViT/output/vit/0.9853000044822693.pt'\n",
    "load_weight_for_vit(vit, path)"
   ]
  },
  {
   "cell_type": "code",
   "execution_count": 4,
   "metadata": {},
   "outputs": [],
   "source": [
    "w, a = 5, 8"
   ]
  },
  {
   "cell_type": "code",
   "execution_count": 5,
   "metadata": {},
   "outputs": [
    {
     "name": "stderr",
     "output_type": "stream",
     "text": [
      "INFO:root:**************************** start to evaluate *******************************\n",
      "Iteration: 100%|██████████| 313/313 [02:20<00:00,  2.23it/s]\n",
      "INFO:root:Accuracy: 0.504100\n"
     ]
    }
   ],
   "source": [
    "set_hwq(vit, True)\n",
    "idx, strategy = get_single_prec_quant_strategy(vit, w, a)\n",
    "set_mixed_precision(vit, idx, strategy)\n",
    "# finetune(vit, train_loader, 'npu', lr=1e-4)\n",
    "eval_model(vit, test_loader, 'npu')"
   ]
  },
  {
   "cell_type": "code",
   "execution_count": 6,
   "metadata": {},
   "outputs": [
    {
     "name": "stderr",
     "output_type": "stream",
     "text": [
      "INFO:root:**************************** start to evaluate *******************************\n",
      "Iteration: 100%|██████████| 313/313 [01:06<00:00,  4.73it/s]\n",
      "INFO:root:Accuracy: 0.504100\n"
     ]
    }
   ],
   "source": [
    "set_hwq(vit, False)\n",
    "idx, strategy = get_single_prec_quant_strategy(vit, w, a)\n",
    "set_mixed_precision(vit, idx, strategy)\n",
    "# finetune(vit, train_loader, 'npu', lr=1e-4)\n",
    "eval_model(vit, test_loader, 'npu')"
   ]
  }
 ],
 "metadata": {
  "kernelspec": {
   "display_name": "base",
   "language": "python",
   "name": "python3"
  },
  "language_info": {
   "codemirror_mode": {
    "name": "ipython",
    "version": 3
   },
   "file_extension": ".py",
   "mimetype": "text/x-python",
   "name": "python",
   "nbconvert_exporter": "python",
   "pygments_lexer": "ipython3",
   "version": "3.7.5"
  },
  "orig_nbformat": 4
 },
 "nbformat": 4,
 "nbformat_minor": 2
}
